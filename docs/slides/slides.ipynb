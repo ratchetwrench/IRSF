{
 "cells": [
  {
   "cell_type": "markdown",
   "metadata": {
    "collapsed": true,
    "slideshow": {
     "slide_type": "slide"
    }
   },
   "source": [
    "# Combating International Shared Revenue Fraud\n",
    "\n",
    "David Wrench\n",
    "\n",
    "Galvanize\n",
    "\n",
    "Data Science Immersive\n"
   ]
  },
  {
   "cell_type": "markdown",
   "metadata": {
    "slideshow": {
     "slide_type": "slide"
    }
   },
   "source": [
    "### International Shared Revenue Fraud (ISRF)\n",
    "...is a multi-billion induustry of call-pumping, fake account creation, robo-dialing, and whatever the fraudsters may be up to next."
   ]
  },
  {
   "cell_type": "markdown",
   "metadata": {
    "slideshow": {
     "slide_type": "subslide"
    }
   },
   "source": [
    "![isrf-facts.jpg](attachment:isrf-facts.jpg)\n",
    "source: https://pt.slideshare.net/richardhickson9/fraudstrike-bringing-irsf-under-control"
   ]
  },
  {
   "cell_type": "markdown",
   "metadata": {
    "slideshow": {
     "slide_type": "slide"
    }
   },
   "source": [
    "##### The International Telecommunications Union (ITU), states \"...TODO.\"\n"
   ]
  },
  {
   "cell_type": "markdown",
   "metadata": {
    "slideshow": {
     "slide_type": "slide"
    }
   },
   "source": [
    "![isrf-how.jpg](attachment:isrf-how.jpg)\n",
    "source: https://pt.slideshare.net/richardhickson9/fraudstrike-bringing-irsf-under-control"
   ]
  },
  {
   "cell_type": "markdown",
   "metadata": {
    "slideshow": {
     "slide_type": "slide"
    }
   },
   "source": [
    "### Who Gets Defrauded?\n",
    "It would be easier to whome does not get defrauded.\n",
    "\n"
   ]
  },
  {
   "cell_type": "markdown",
   "metadata": {
    "slideshow": {
     "slide_type": "subslide"
    }
   },
   "source": [
    "What is the probability, and how much would it cost?\n",
    "\n",
    "$$Probability(Fraud \\mid You) = \\frac{Liklihood \\times Prior}{Marginal Liklihood}$$\n",
    "\n",
    "$$Cost(48hrs \\mid Fraud) = \\frac{0.001 \\times 0.01}{Marginal-Liklihood}$$\n",
    "\n",
    "$$ ... $$"
   ]
  },
  {
   "cell_type": "markdown",
   "metadata": {
    "slideshow": {
     "slide_type": "slide"
    }
   },
   "source": [
    "### Who Gets a Share in the Revenue?\n"
   ]
  },
  {
   "cell_type": "markdown",
   "metadata": {},
   "source": [
    "### What is being done about it?\n",
    "Not much. Until someone notices the racked up charges and turns off the service for themselves, or their customer.\n",
    "\n",
    "Whilst the ITU governs the allocations of Country Codes once the code is allocated the usage and numbering plan is controlled by the responsible authority in the recipient country, the ITU publishes updates on the reported use of each numbering block for each allocated Country Code (http://www.itu.int/oth/T0202.aspx?parent=T0202) however this is based on information submitted by the responsible authority and is not always an up to date source of information."
   ]
  },
  {
   "cell_type": "markdown",
   "metadata": {
    "slideshow": {
     "slide_type": "subslide"
    }
   },
   "source": [
    "##### ...however...\n",
    "Various industry groups maintain a database of the latest fraudulent numbers.  A lot of information sharing goes on between operators who accept that fraud management is a non-competitive area of the business. \n",
    "\n",
    "Good."
   ]
  },
  {
   "cell_type": "markdown",
   "metadata": {
    "collapsed": true,
    "slideshow": {
     "slide_type": "slide"
    }
   },
   "source": [
    "### Who Pays the Bill?\n",
    "\n",
    "Fraudsters get the kick-back. \n",
    "\n",
    "Victims in between foots the bill."
   ]
  },
  {
   "cell_type": "code",
   "execution_count": null,
   "metadata": {
    "collapsed": true
   },
   "outputs": [],
   "source": []
  }
 ],
 "metadata": {
  "celltoolbar": "Slideshow",
  "kernelspec": {
   "display_name": "Python 3",
   "language": "python",
   "name": "python3"
  },
  "language_info": {
   "codemirror_mode": {
    "name": "ipython",
    "version": 3
   },
   "file_extension": ".py",
   "mimetype": "text/x-python",
   "name": "python",
   "nbconvert_exporter": "python",
   "pygments_lexer": "ipython3",
   "version": "3.6.2"
  }
 },
 "nbformat": 4,
 "nbformat_minor": 1
}
