{
 "cells": [
  {
   "cell_type": "code",
   "execution_count": 2,
   "metadata": {
    "collapsed": true
   },
   "outputs": [],
   "source": [
    "import pandas as pd"
   ]
  },
  {
   "cell_type": "code",
   "execution_count": 32,
   "metadata": {
    "collapsed": true
   },
   "outputs": [],
   "source": [
    "cdr_data = pd.read_csv(\"/Users/davidwrench/Galvanize/irsf/src/data/cdr_data.csv\", \n",
    "                       index_col=[\"country_name\", \"operator_name\"])"
   ]
  },
  {
   "cell_type": "code",
   "execution_count": 33,
   "metadata": {},
   "outputs": [
    {
     "data": {
      "text/html": [
       "<div>\n",
       "<style>\n",
       "    .dataframe thead tr:only-child th {\n",
       "        text-align: right;\n",
       "    }\n",
       "\n",
       "    .dataframe thead th {\n",
       "        text-align: left;\n",
       "    }\n",
       "\n",
       "    .dataframe tbody tr th {\n",
       "        vertical-align: top;\n",
       "    }\n",
       "</style>\n",
       "<table border=\"1\" class=\"dataframe\">\n",
       "  <thead>\n",
       "    <tr style=\"text-align: right;\">\n",
       "      <th></th>\n",
       "      <th></th>\n",
       "      <th>prefix</th>\n",
       "      <th>country_gdp</th>\n",
       "      <th>operator_proba</th>\n",
       "      <th>country_proba</th>\n",
       "      <th>bbva_proba</th>\n",
       "    </tr>\n",
       "    <tr>\n",
       "      <th>country_name</th>\n",
       "      <th>operator_name</th>\n",
       "      <th></th>\n",
       "      <th></th>\n",
       "      <th></th>\n",
       "      <th></th>\n",
       "      <th></th>\n",
       "    </tr>\n",
       "  </thead>\n",
       "  <tbody>\n",
       "    <tr>\n",
       "      <th>Iraq</th>\n",
       "      <th>Ooredoo</th>\n",
       "      <td>964</td>\n",
       "      <td>189.43</td>\n",
       "      <td>1.000000</td>\n",
       "      <td>0.003265</td>\n",
       "      <td>0.005312</td>\n",
       "    </tr>\n",
       "    <tr>\n",
       "      <th>Indonesia</th>\n",
       "      <th>STC</th>\n",
       "      <td>62</td>\n",
       "      <td>1020.52</td>\n",
       "      <td>0.190307</td>\n",
       "      <td>0.017587</td>\n",
       "      <td>0.000908</td>\n",
       "    </tr>\n",
       "    <tr>\n",
       "      <th>Uzbekistan</th>\n",
       "      <th>Veon</th>\n",
       "      <td>998</td>\n",
       "      <td>68.32</td>\n",
       "      <td>0.685879</td>\n",
       "      <td>0.001177</td>\n",
       "      <td>NaN</td>\n",
       "    </tr>\n",
       "    <tr>\n",
       "      <th>Iran</th>\n",
       "      <th>Hamrahe Aval</th>\n",
       "      <td>98</td>\n",
       "      <td>368.49</td>\n",
       "      <td>0.082592</td>\n",
       "      <td>0.006350</td>\n",
       "      <td>0.002469</td>\n",
       "    </tr>\n",
       "    <tr>\n",
       "      <th>Croatia</th>\n",
       "      <th>Deutsche Telekom</th>\n",
       "      <td>385</td>\n",
       "      <td>50.08</td>\n",
       "      <td>1.000000</td>\n",
       "      <td>0.000863</td>\n",
       "      <td>NaN</td>\n",
       "    </tr>\n",
       "  </tbody>\n",
       "</table>\n",
       "</div>"
      ],
      "text/plain": [
       "                               prefix  country_gdp  operator_proba  \\\n",
       "country_name operator_name                                           \n",
       "Iraq         Ooredoo              964       189.43        1.000000   \n",
       "Indonesia    STC                   62      1020.52        0.190307   \n",
       "Uzbekistan   Veon                 998        68.32        0.685879   \n",
       "Iran         Hamrahe Aval          98       368.49        0.082592   \n",
       "Croatia      Deutsche Telekom     385        50.08        1.000000   \n",
       "\n",
       "                               country_proba  bbva_proba  \n",
       "country_name operator_name                                \n",
       "Iraq         Ooredoo                0.003265    0.005312  \n",
       "Indonesia    STC                    0.017587    0.000908  \n",
       "Uzbekistan   Veon                   0.001177         NaN  \n",
       "Iran         Hamrahe Aval           0.006350    0.002469  \n",
       "Croatia      Deutsche Telekom       0.000863         NaN  "
      ]
     },
     "execution_count": 33,
     "metadata": {},
     "output_type": "execute_result"
    }
   ],
   "source": [
    "cdr_data.head()"
   ]
  },
  {
   "cell_type": "code",
   "execution_count": 36,
   "metadata": {},
   "outputs": [
    {
     "name": "stdout",
     "output_type": "stream",
     "text": [
      "1000 loops, best of 3: 1.82 ms per loop\n"
     ]
    }
   ],
   "source": [
    "%timeit cdr_data.loc[\"Iraq\", \"Ooredoo\"]"
   ]
  },
  {
   "cell_type": "code",
   "execution_count": 6,
   "metadata": {},
   "outputs": [
    {
     "data": {
      "text/plain": [
       "pandas.core.series.Series"
      ]
     },
     "execution_count": 6,
     "metadata": {},
     "output_type": "execute_result"
    }
   ],
   "source": [
    "type(x)"
   ]
  },
  {
   "cell_type": "code",
   "execution_count": 31,
   "metadata": {},
   "outputs": [
    {
     "name": "stdout",
     "output_type": "stream",
     "text": [
      "1000 loops, best of 3: 1.65 ms per loop\n"
     ]
    }
   ],
   "source": [
    "%timeit cdr_data.loc[[\"Iraq\"], [\"prefix\", \"operator_name\"]]"
   ]
  },
  {
   "cell_type": "code",
   "execution_count": 8,
   "metadata": {},
   "outputs": [
    {
     "data": {
      "text/plain": [
       "pandas.core.frame.DataFrame"
      ]
     },
     "execution_count": 8,
     "metadata": {},
     "output_type": "execute_result"
    }
   ],
   "source": [
    "type(x)"
   ]
  },
  {
   "cell_type": "code",
   "execution_count": 9,
   "metadata": {},
   "outputs": [
    {
     "data": {
      "text/plain": [
       "964"
      ]
     },
     "execution_count": 9,
     "metadata": {},
     "output_type": "execute_result"
    }
   ],
   "source": [
    "x = cdr_data.loc[\"Iraq\"][\"prefix\"]\n",
    "x"
   ]
  },
  {
   "cell_type": "code",
   "execution_count": 10,
   "metadata": {},
   "outputs": [
    {
     "data": {
      "text/plain": [
       "numpy.int64"
      ]
     },
     "execution_count": 10,
     "metadata": {},
     "output_type": "execute_result"
    }
   ],
   "source": [
    "type(x)"
   ]
  },
  {
   "cell_type": "code",
   "execution_count": 23,
   "metadata": {},
   "outputs": [
    {
     "name": "stdout",
     "output_type": "stream",
     "text": [
      "10000 loops, best of 3: 161 µs per loop\n"
     ]
    }
   ],
   "source": [
    "%timeit cdr_data.loc[\"Iraq\"]"
   ]
  },
  {
   "cell_type": "code",
   "execution_count": 24,
   "metadata": {},
   "outputs": [
    {
     "name": "stdout",
     "output_type": "stream",
     "text": [
      "1000 loops, best of 3: 1.02 ms per loop\n"
     ]
    }
   ],
   "source": [
    "%timeit cdr_no_idx.eval('country_name == \"Iraq\"')"
   ]
  },
  {
   "cell_type": "code",
   "execution_count": 25,
   "metadata": {},
   "outputs": [
    {
     "data": {
      "text/html": [
       "<div>\n",
       "<style>\n",
       "    .dataframe thead tr:only-child th {\n",
       "        text-align: right;\n",
       "    }\n",
       "\n",
       "    .dataframe thead th {\n",
       "        text-align: left;\n",
       "    }\n",
       "\n",
       "    .dataframe tbody tr th {\n",
       "        vertical-align: top;\n",
       "    }\n",
       "</style>\n",
       "<table border=\"1\" class=\"dataframe\">\n",
       "  <thead>\n",
       "    <tr style=\"text-align: right;\">\n",
       "      <th></th>\n",
       "      <th>country_name</th>\n",
       "      <th>prefix</th>\n",
       "      <th>country_gdp</th>\n",
       "      <th>operator_name</th>\n",
       "      <th>operator_proba</th>\n",
       "      <th>country_proba</th>\n",
       "      <th>bbva_proba</th>\n",
       "    </tr>\n",
       "  </thead>\n",
       "  <tbody>\n",
       "    <tr>\n",
       "      <th>0</th>\n",
       "      <td>Iraq</td>\n",
       "      <td>964</td>\n",
       "      <td>189.43</td>\n",
       "      <td>Ooredoo</td>\n",
       "      <td>1.000000</td>\n",
       "      <td>0.003265</td>\n",
       "      <td>0.005312</td>\n",
       "    </tr>\n",
       "    <tr>\n",
       "      <th>1</th>\n",
       "      <td>Indonesia</td>\n",
       "      <td>62</td>\n",
       "      <td>1020.52</td>\n",
       "      <td>STC</td>\n",
       "      <td>0.190307</td>\n",
       "      <td>0.017587</td>\n",
       "      <td>0.000908</td>\n",
       "    </tr>\n",
       "    <tr>\n",
       "      <th>2</th>\n",
       "      <td>Uzbekistan</td>\n",
       "      <td>998</td>\n",
       "      <td>68.32</td>\n",
       "      <td>Veon</td>\n",
       "      <td>0.685879</td>\n",
       "      <td>0.001177</td>\n",
       "      <td>NaN</td>\n",
       "    </tr>\n",
       "    <tr>\n",
       "      <th>3</th>\n",
       "      <td>Iran</td>\n",
       "      <td>98</td>\n",
       "      <td>368.49</td>\n",
       "      <td>Hamrahe Aval</td>\n",
       "      <td>0.082592</td>\n",
       "      <td>0.006350</td>\n",
       "      <td>0.002469</td>\n",
       "    </tr>\n",
       "    <tr>\n",
       "      <th>4</th>\n",
       "      <td>Croatia</td>\n",
       "      <td>385</td>\n",
       "      <td>50.08</td>\n",
       "      <td>Deutsche Telekom</td>\n",
       "      <td>1.000000</td>\n",
       "      <td>0.000863</td>\n",
       "      <td>NaN</td>\n",
       "    </tr>\n",
       "  </tbody>\n",
       "</table>\n",
       "</div>"
      ],
      "text/plain": [
       "  country_name  prefix  country_gdp     operator_name  operator_proba  \\\n",
       "0         Iraq     964       189.43           Ooredoo        1.000000   \n",
       "1    Indonesia      62      1020.52               STC        0.190307   \n",
       "2   Uzbekistan     998        68.32              Veon        0.685879   \n",
       "3         Iran      98       368.49      Hamrahe Aval        0.082592   \n",
       "4      Croatia     385        50.08  Deutsche Telekom        1.000000   \n",
       "\n",
       "   country_proba  bbva_proba  \n",
       "0       0.003265    0.005312  \n",
       "1       0.017587    0.000908  \n",
       "2       0.001177         NaN  \n",
       "3       0.006350    0.002469  \n",
       "4       0.000863         NaN  "
      ]
     },
     "execution_count": 25,
     "metadata": {},
     "output_type": "execute_result"
    }
   ],
   "source": [
    "cdr_no_idx = cdr_data.reset_index()\n",
    "cdr_no_idx.head()"
   ]
  },
  {
   "cell_type": "code",
   "execution_count": 26,
   "metadata": {},
   "outputs": [
    {
     "name": "stdout",
     "output_type": "stream",
     "text": [
      "1000 loops, best of 3: 1.03 ms per loop\n"
     ]
    }
   ],
   "source": [
    "%timeit cdr_no_idx.eval('country_name == \"Iraq\"')"
   ]
  },
  {
   "cell_type": "code",
   "execution_count": 29,
   "metadata": {},
   "outputs": [
    {
     "name": "stdout",
     "output_type": "stream",
     "text": [
      "1000 loops, best of 3: 1.32 ms per loop\n"
     ]
    }
   ],
   "source": [
    "%timeit cdr_no_idx.query('country_name == \"Iraq\"')"
   ]
  },
  {
   "cell_type": "code",
   "execution_count": null,
   "metadata": {
    "collapsed": true
   },
   "outputs": [],
   "source": []
  }
 ],
 "metadata": {
  "kernelspec": {
   "display_name": "Python 3",
   "language": "python",
   "name": "python3"
  },
  "language_info": {
   "codemirror_mode": {
    "name": "ipython",
    "version": 3
   },
   "file_extension": ".py",
   "mimetype": "text/x-python",
   "name": "python",
   "nbconvert_exporter": "python",
   "pygments_lexer": "ipython3",
   "version": "3.6.1"
  }
 },
 "nbformat": 4,
 "nbformat_minor": 2
}
